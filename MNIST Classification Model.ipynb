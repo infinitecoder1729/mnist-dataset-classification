{
 "cells": [
  {
   "cell_type": "code",
   "execution_count": 2,
   "id": "ecdbd317",
   "metadata": {},
   "outputs": [],
   "source": [
    "import torch as tch\n",
    "import torchvision.datasets as dt\n",
    "import torchvision.transforms as trans\n",
    "import torch.nn as nn\n",
    "import matplotlib.pyplot as plt\n",
    "from time import time"
   ]
  },
  {
   "cell_type": "code",
   "execution_count": 3,
   "id": "6c333d1a",
   "metadata": {},
   "outputs": [
    {
     "name": "stdout",
     "output_type": "stream",
     "text": [
      "Downloading http://yann.lecun.com/exdb/mnist/train-images-idx3-ubyte.gz\n",
      "Downloading http://yann.lecun.com/exdb/mnist/train-images-idx3-ubyte.gz to ./datasets\\MNIST\\raw\\train-images-idx3-ubyte.gz\n"
     ]
    },
    {
     "data": {
      "application/vnd.jupyter.widget-view+json": {
       "model_id": "01e4f3f628994928bfa4a950fe0a3e33",
       "version_major": 2,
       "version_minor": 0
      },
      "text/plain": [
       "  0%|          | 0/9912422 [00:00<?, ?it/s]"
      ]
     },
     "metadata": {},
     "output_type": "display_data"
    },
    {
     "name": "stdout",
     "output_type": "stream",
     "text": [
      "Extracting ./datasets\\MNIST\\raw\\train-images-idx3-ubyte.gz to ./datasets\\MNIST\\raw\n",
      "\n",
      "Downloading http://yann.lecun.com/exdb/mnist/train-labels-idx1-ubyte.gz\n",
      "Downloading http://yann.lecun.com/exdb/mnist/train-labels-idx1-ubyte.gz to ./datasets\\MNIST\\raw\\train-labels-idx1-ubyte.gz\n"
     ]
    },
    {
     "data": {
      "application/vnd.jupyter.widget-view+json": {
       "model_id": "1de9e88ce1c94b34b1cc1c8b5b9c70a8",
       "version_major": 2,
       "version_minor": 0
      },
      "text/plain": [
       "  0%|          | 0/28881 [00:00<?, ?it/s]"
      ]
     },
     "metadata": {},
     "output_type": "display_data"
    },
    {
     "name": "stdout",
     "output_type": "stream",
     "text": [
      "Extracting ./datasets\\MNIST\\raw\\train-labels-idx1-ubyte.gz to ./datasets\\MNIST\\raw\n",
      "\n",
      "Downloading http://yann.lecun.com/exdb/mnist/t10k-images-idx3-ubyte.gz\n",
      "Downloading http://yann.lecun.com/exdb/mnist/t10k-images-idx3-ubyte.gz to ./datasets\\MNIST\\raw\\t10k-images-idx3-ubyte.gz\n"
     ]
    },
    {
     "data": {
      "application/vnd.jupyter.widget-view+json": {
       "model_id": "ebf88e8850e7413fad33668a8d0bf344",
       "version_major": 2,
       "version_minor": 0
      },
      "text/plain": [
       "  0%|          | 0/1648877 [00:00<?, ?it/s]"
      ]
     },
     "metadata": {},
     "output_type": "display_data"
    },
    {
     "name": "stdout",
     "output_type": "stream",
     "text": [
      "Extracting ./datasets\\MNIST\\raw\\t10k-images-idx3-ubyte.gz to ./datasets\\MNIST\\raw\n",
      "\n",
      "Downloading http://yann.lecun.com/exdb/mnist/t10k-labels-idx1-ubyte.gz\n",
      "Downloading http://yann.lecun.com/exdb/mnist/t10k-labels-idx1-ubyte.gz to ./datasets\\MNIST\\raw\\t10k-labels-idx1-ubyte.gz\n"
     ]
    },
    {
     "data": {
      "application/vnd.jupyter.widget-view+json": {
       "model_id": "2693df027cae4fd3981044ca79135e89",
       "version_major": 2,
       "version_minor": 0
      },
      "text/plain": [
       "  0%|          | 0/4542 [00:00<?, ?it/s]"
      ]
     },
     "metadata": {},
     "output_type": "display_data"
    },
    {
     "name": "stdout",
     "output_type": "stream",
     "text": [
      "Extracting ./datasets\\MNIST\\raw\\t10k-labels-idx1-ubyte.gz to ./datasets\\MNIST\\raw\n",
      "\n",
      "No. of Training examples:  60000\n",
      "No. of Test examples:  10000\n"
     ]
    }
   ],
   "source": [
    "train = dt.MNIST(root=\"./datasets\", train=True, transform=trans.ToTensor(), download=True)\n",
    "test = dt.MNIST(root=\"./datasets\", train=False, transform=trans.ToTensor(), download=True)\n",
    "print(\"No. of Training examples: \",len(train))\n",
    "print(\"No. of Test examples: \",len(test))"
   ]
  },
  {
   "cell_type": "code",
   "execution_count": 4,
   "id": "afa4ff12",
   "metadata": {},
   "outputs": [],
   "source": [
    "train_batch = tch.utils.data.DataLoader(train, batch_size=30, shuffle=True)"
   ]
  },
  {
   "cell_type": "code",
   "execution_count": 5,
   "id": "022d262f",
   "metadata": {},
   "outputs": [],
   "source": [
    "input = 784\n",
    "hidden = 490\n",
    "output = 10"
   ]
  },
  {
   "cell_type": "code",
   "execution_count": 6,
   "id": "ea590922",
   "metadata": {},
   "outputs": [],
   "source": [
    "model = nn.Sequential(nn.Linear(input, hidden),\n",
    "                      nn.LeakyReLU(),\n",
    "                      nn.Linear(hidden, output),\n",
    "                      nn.LogSoftmax(dim=1))"
   ]
  },
  {
   "cell_type": "code",
   "execution_count": 7,
   "id": "fa9a5b1f",
   "metadata": {},
   "outputs": [],
   "source": [
    "lossfn = nn.NLLLoss()\n",
    "images, labels = next(iter(train_batch))\n",
    "images = images.view(images.shape[0], -1)\n",
    "\n",
    "logps = model(images)\n",
    "loss = lossfn(logps, labels)\n",
    "loss.backward()"
   ]
  },
  {
   "cell_type": "code",
   "execution_count": 8,
   "id": "e1fb5d19",
   "metadata": {},
   "outputs": [
    {
     "name": "stdout",
     "output_type": "stream",
     "text": [
      "Epoch Number : 0 = Loss : 0.5149400651156902\n",
      "Epoch Number : 1 = Loss : 0.261456840605475\n",
      "Epoch Number : 2 = Loss : 0.20588867816049605\n",
      "Epoch Number : 3 = Loss : 0.16964873825758695\n",
      "Epoch Number : 4 = Loss : 0.1434834775705822\n",
      "Epoch Number : 5 = Loss : 0.12429279719106853\n",
      "Epoch Number : 6 = Loss : 0.10908355080941692\n",
      "Epoch Number : 7 = Loss : 0.09697999537643046\n",
      "Epoch Number : 8 = Loss : 0.08723836344201118\n",
      "Epoch Number : 9 = Loss : 0.07917423069826328\n",
      "Epoch Number : 10 = Loss : 0.07214489371958188\n",
      "Epoch Number : 11 = Loss : 0.06623679360805546\n",
      "Epoch Number : 12 = Loss : 0.060786034525139254\n",
      "Epoch Number : 13 = Loss : 0.05600704051565845\n",
      "Epoch Number : 14 = Loss : 0.05210975646332372\n",
      "Epoch Number : 15 = Loss : 0.04836869774857769\n",
      "Epoch Number : 16 = Loss : 0.045035426611895676\n",
      "Epoch Number : 17 = Loss : 0.04181636443955358\n",
      "\n",
      "Training Time (in minutes) :  3.022224660714467\n"
     ]
    }
   ],
   "source": [
    "optimize = tch.optim.SGD(model.parameters(), lr=0.003, momentum=0.9)\n",
    "time_start = time()\n",
    "epochs = 18\n",
    "for num in range(epochs):\n",
    "    run=0\n",
    "    for images, labels in train_batch:\n",
    "        images = images.view(images.shape[0], -1)\n",
    "        optimize.zero_grad()\n",
    "        output = model(images)\n",
    "        loss = lossfn(output, labels)\n",
    "        loss.backward()\n",
    "        optimize.step()\n",
    "        run += loss.item()\n",
    "    else:\n",
    "        print(\"Epoch Number : {} = Loss : {}\".format(num, run/len(train_batch)))\n",
    "Elapsed=(time()-time_start)/60\n",
    "print(\"\\nTraining Time (in minutes) : \",Elapsed)"
   ]
  },
  {
   "cell_type": "code",
   "execution_count": 9,
   "id": "03c79aae",
   "metadata": {},
   "outputs": [
    {
     "name": "stdout",
     "output_type": "stream",
     "text": [
      "Number Of Images Tested :  10000\n",
      "Model Accuracy :  0.9777\n"
     ]
    }
   ],
   "source": [
    "correct=0\n",
    "all = 0\n",
    "for images,labels in test:\n",
    "  img = images.view(1, 784)\n",
    "  with tch.no_grad():\n",
    "    logps = model(img)   \n",
    "  ps = tch.exp(logps)\n",
    "  probab = list(ps.numpy()[0])\n",
    "  prediction = probab.index(max(probab))\n",
    "  truth = labels\n",
    "  if(truth == prediction):\n",
    "    correct += 1\n",
    "  all += 1\n",
    "\n",
    "print(\"Number Of Images Tested : \", all)\n",
    "print(\"Model Accuracy : \", (correct/all))"
   ]
  },
  {
   "cell_type": "code",
   "execution_count": 10,
   "id": "3569476c",
   "metadata": {},
   "outputs": [],
   "source": [
    "tch.save(model, './mnist_model.pt')"
   ]
  }
 ],
 "metadata": {
  "kernelspec": {
   "display_name": "Python 3 (ipykernel)",
   "language": "python",
   "name": "python3"
  },
  "language_info": {
   "codemirror_mode": {
    "name": "ipython",
    "version": 3
   },
   "file_extension": ".py",
   "mimetype": "text/x-python",
   "name": "python",
   "nbconvert_exporter": "python",
   "pygments_lexer": "ipython3",
   "version": "3.9.13"
  }
 },
 "nbformat": 4,
 "nbformat_minor": 5
}
