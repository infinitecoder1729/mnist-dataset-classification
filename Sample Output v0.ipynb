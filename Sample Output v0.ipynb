{
 "cells": [
  {
   "cell_type": "code",
   "execution_count": 1,
   "id": "6584924f",
   "metadata": {},
   "outputs": [
    {
     "name": "stdout",
     "output_type": "stream",
     "text": [
      "No. of Training examples:  60000\n",
      "No. of Test examples:  10000\n"
     ]
    }
   ],
   "source": [
    "import torch as tch\n",
    "import torchvision.datasets as dt\n",
    "import torchvision.transforms as trans\n",
    "import torch.nn as nn\n",
    "import matplotlib.pyplot as plt\n",
    "from time import time\n",
    "from torch.utils.tensorboard import SummaryWriter\n",
    "\n",
    "writer = SummaryWriter()\n",
    "\n",
    "train = dt.MNIST(root=\"./datasets\", train=True, transform=trans.ToTensor(), download=True)\n",
    "test = dt.MNIST(root=\"./datasets\", train=False, transform=trans.ToTensor(), download=True)\n",
    "print(\"No. of Training examples: \",len(train))\n",
    "print(\"No. of Test examples: \",len(test))\n",
    "\n",
    "train_batch = tch.utils.data.DataLoader(train, batch_size=30, shuffle=True)"
   ]
  },
  {
   "cell_type": "code",
   "execution_count": 3,
   "id": "148134c6",
   "metadata": {},
   "outputs": [
    {
     "name": "stdout",
     "output_type": "stream",
     "text": [
      "Epoch Number : 0 = Loss : 0.5081581976301968\n",
      "Epoch Number : 1 = Loss : 0.2607014692854136\n",
      "Epoch Number : 2 = Loss : 0.20602162138931454\n",
      "Epoch Number : 3 = Loss : 0.16912483075121418\n",
      "Epoch Number : 4 = Loss : 0.14195448012137785\n",
      "Epoch Number : 5 = Loss : 0.12255496634542942\n",
      "Epoch Number : 6 = Loss : 0.10741885769902729\n",
      "Epoch Number : 7 = Loss : 0.09534787850477733\n",
      "Epoch Number : 8 = Loss : 0.08542947270977311\n",
      "Epoch Number : 9 = Loss : 0.07763797796762083\n",
      "Epoch Number : 10 = Loss : 0.07077616441179999\n",
      "Epoch Number : 11 = Loss : 0.06475602737592999\n",
      "Epoch Number : 12 = Loss : 0.05975847951992182\n",
      "Epoch Number : 13 = Loss : 0.05511430356022902\n",
      "Epoch Number : 14 = Loss : 0.05111963468440808\n",
      "Epoch Number : 15 = Loss : 0.04776831939723342\n",
      "Epoch Number : 16 = Loss : 0.04453270577394869\n",
      "Epoch Number : 17 = Loss : 0.0416670137080946\n",
      "\n",
      "Training Time (in minutes) :  2.8615051031112673\n"
     ]
    }
   ],
   "source": [
    "input = 784\n",
    "hidden = 490\n",
    "output = 10\n",
    "\n",
    "model = nn.Sequential(nn.Linear(input, hidden),\n",
    "                      nn.LeakyReLU(),\n",
    "                      nn.Linear(hidden, output),\n",
    "                      nn.LogSoftmax(dim=1))\n",
    "\n",
    "lossfn = nn.NLLLoss()\n",
    "images, labels = next(iter(train_batch))\n",
    "images = images.view(images.shape[0], -1)\n",
    "\n",
    "logps = model(images)\n",
    "loss = lossfn(logps, labels)\n",
    "loss.backward()\n",
    "\n",
    "optimize = tch.optim.SGD(model.parameters(), lr=0.003, momentum=0.9)\n",
    "time_start = time()\n",
    "epochs = 18\n",
    "for num in range(epochs):\n",
    "    run=0\n",
    "    for images, labels in train_batch:\n",
    "        images = images.view(images.shape[0], -1)\n",
    "        optimize.zero_grad()\n",
    "        output = model(images)\n",
    "        loss = lossfn(output, labels)\n",
    "        writer.add_scalar(\"Loss\", loss, num)\n",
    "        loss.backward()\n",
    "        optimize.step()\n",
    "        run += loss.item()\n",
    "    else:\n",
    "        print(\"Epoch Number : {} = Loss : {}\".format(num, run/len(train_batch)))\n",
    "Elapsed=(time()-time_start)/60\n",
    "print(\"\\nTraining Time (in minutes) : \",Elapsed)\n",
    "writer.flush()\n",
    "writer.close()"
   ]
  },
  {
   "cell_type": "code",
   "execution_count": 4,
   "id": "99b1476b",
   "metadata": {},
   "outputs": [
    {
     "name": "stdout",
     "output_type": "stream",
     "text": [
      "Number Of Images Tested :  10000\n",
      "Model Accuracy :  0.9787\n"
     ]
    }
   ],
   "source": [
    "correct=0\n",
    "all = 0\n",
    "for images,labels in test:\n",
    "  img = images.view(1, 784)\n",
    "  with tch.no_grad():\n",
    "    logps = model(img)   \n",
    "  ps = tch.exp(logps)\n",
    "  probab = list(ps.numpy()[0])\n",
    "  prediction = probab.index(max(probab))\n",
    "  truth = labels\n",
    "  if(truth == prediction):\n",
    "    correct += 1\n",
    "  all += 1\n",
    "\n",
    "print(\"Number Of Images Tested : \", all)\n",
    "print(\"Model Accuracy : \", (correct/all))"
   ]
  }
 ],
 "metadata": {
  "kernelspec": {
   "display_name": "Python 3 (ipykernel)",
   "language": "python",
   "name": "python3"
  },
  "language_info": {
   "codemirror_mode": {
    "name": "ipython",
    "version": 3
   },
   "file_extension": ".py",
   "mimetype": "text/x-python",
   "name": "python",
   "nbconvert_exporter": "python",
   "pygments_lexer": "ipython3",
   "version": "3.9.13"
  }
 },
 "nbformat": 4,
 "nbformat_minor": 5
}
